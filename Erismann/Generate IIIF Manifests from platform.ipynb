{
 "cells": [
  {
   "attachments": {},
   "cell_type": "markdown",
   "metadata": {},
   "source": [
    "Get metadata from SAPA platform.\n"
   ]
  },
  {
   "cell_type": "code",
   "execution_count": 1,
   "metadata": {},
   "outputs": [],
   "source": [
    "%load_ext autoreload\n",
    "%autoreload 2\n",
    "import json\n",
    "import os\n",
    "import sys\n",
    "from getpass import getpass\n",
    "from urllib.parse import quote\n",
    "\n",
    "import pandas as pd\n",
    "import requests\n",
    "from requests.adapters import HTTPAdapter\n",
    "from SPARQLWrapper import JSON, SPARQLWrapper\n",
    "from tqdm.auto import tqdm\n",
    "from urllib3.util.retry import Retry\n",
    "\n",
    "module_path = os.path.abspath(os.path.join(\"..\"))\n",
    "if module_path not in sys.path:\n",
    "    sys.path.append(module_path)\n",
    "\n",
    "try:\n",
    "    S3_CLIENT_ID\n",
    "except NameError:\n",
    "    S3_CLIENT_ID = getpass(\"Please input s3 client id\")\n",
    "\n",
    "try:\n",
    "    S3_CLIENT_SECRET\n",
    "except NameError:\n",
    "    S3_CLIENT_SECRET = getpass(\"Please input s3 client secret\")\n",
    "\n",
    "\n",
    "tqdm.pandas()"
   ]
  },
  {
   "cell_type": "code",
   "execution_count": 5,
   "metadata": {},
   "outputs": [],
   "source": [
    "sparql = SPARQLWrapper(\"https://www.performing-arts.ch/sparql\")\n",
    "\n",
    "sparql.setQuery(\n",
    "    \"\"\"\n",
    "PREFIX rdf: <http://www.w3.org/1999/02/22-rdf-syntax-ns#>\n",
    "PREFIX crm: <http://www.cidoc-crm.org/cidoc-crm/>\n",
    "PREFIX spav: <http://vocab.performing-arts.ch/>\n",
    "PREFIX rico: <https://www.ica.org/standards/RiC/ontology#>\n",
    "#SELECT ?resource ?identifier_value ?descriptive_note ?name WHERE {\n",
    "SELECT * WHERE {\n",
    "  ?serie rico:isOrWasIncludedIn <http://data.performing-arts.ch/r/9636965d-b8e7-4009-950a-8a1f39f89456>.\n",
    "  ?dossier rico:isOrWasIncludedIn ?serie.\n",
    "  ?resource rico:isOrWasIncludedIn ?dossier ;\n",
    "  \trico:hasOrHadIdentifier ?identifier;\n",
    "    rico:descriptiveNote ?descriptive_note;\n",
    "    rico:name ?name.\n",
    "  ?identifier rdf:value ?identifier_value;\n",
    "      crm:P2_has_type spav:iduni.\n",
    "} ORDER BY ?identifier_value\n",
    "\"\"\"\n",
    ")\n",
    "sparql.setReturnFormat(JSON)\n",
    "results = sparql.query().convert()\n",
    "\n",
    "metadata = pd.DataFrame.from_dict(\n",
    "    [{k: v[\"value\"] for k, v in x.items()} for x in results[\"results\"][\"bindings\"]]\n",
    ")"
   ]
  },
  {
   "attachments": {},
   "cell_type": "markdown",
   "metadata": {},
   "source": [
    "We try to fetch image sizes from the IIIF. We cache those results for usage next time this script is run, set `force_compute_image_sizes` to `True` if you want to force recompute.\n",
    "You can run this cell as much as needed, as the values are cached, so running it twice may also prevent some errors.\n"
   ]
  },
  {
   "cell_type": "code",
   "execution_count": 6,
   "metadata": {},
   "outputs": [],
   "source": [
    "def identifier_to_image_base_url(identifier):\n",
    "    return f\"https://media.performing-arts.ch/iiif/3/image%2F{identifier}-DC\""
   ]
  },
  {
   "cell_type": "code",
   "execution_count": 7,
   "metadata": {},
   "outputs": [
    {
     "data": {
      "application/vnd.jupyter.widget-view+json": {
       "model_id": "1cb5e5a385eb4f08a31d86c6519b763d",
       "version_major": 2,
       "version_minor": 0
      },
      "text/plain": [
       "  0%|          | 0/1004 [00:00<?, ?it/s]"
      ]
     },
     "metadata": {},
     "output_type": "display_data"
    },
    {
     "name": "stdout",
     "output_type": "stream",
     "text": [
      "Error with 1553-FO-360-2, URL https://media.performing-arts.ch/iiif/3/image%2F1553-FO-360-2-DC/info.json does not exists\n",
      "Error with 1553-FO-601-1, URL https://media.performing-arts.ch/iiif/3/image%2F1553-FO-601-1-DC/info.json does not exists\n",
      "Error with 1553-FO-73-2, URL https://media.performing-arts.ch/iiif/3/image%2F1553-FO-73-2-DC/info.json does not exists\n",
      "Error with 1553-FO-742-2, URL https://media.performing-arts.ch/iiif/3/image%2F1553-FO-742-2-DC/info.json does not exists\n"
     ]
    }
   ],
   "source": [
    "force_compute_images_size = False\n",
    "\n",
    "if not force_compute_images_size and os.path.exists(\"iiif_image_sizes.csv\"):\n",
    "    identifier2image_size = (\n",
    "        pd.read_csv(\"iiif_image_sizes.csv\", index_col=0, dtype={'identifier': str, \"width\": int, \"height\": int})\n",
    "        .apply(lambda row: (row[\"width\"], row[\"height\"]), axis=1)\n",
    "        .to_dict()\n",
    "    )\n",
    "else:\n",
    "    identifier2image_size = {}\n",
    "\n",
    "s = requests.Session()\n",
    "\n",
    "retries = Retry(total=5, backoff_factor=1, status_forcelist=[429, 500, 502, 503, 504])\n",
    "\n",
    "s.mount(\"https://\", HTTPAdapter(max_retries=retries))\n",
    "\n",
    "for identifier in tqdm(\n",
    "    metadata[\"identifier_value\"], total=len(metadata)\n",
    "):\n",
    "    iiif_url = identifier_to_image_base_url(identifier) + \"/info.json\"\n",
    "    if identifier in identifier2image_size:\n",
    "        continue\n",
    "    try:\n",
    "        res = s.get(iiif_url)\n",
    "        if res.status_code == 404:\n",
    "            print(f\"Error with {identifier}, URL {iiif_url} does not exists\")\n",
    "            continue\n",
    "        res.raise_for_status()\n",
    "        res_json = res.json()\n",
    "        identifier2image_size[identifier] = (int(res_json[\"width\"]), int(res_json[\"height\"]))\n",
    "    except Exception as e:\n",
    "        print(f\"Error with {identifier}, got the following error with {iiif_url}: \", e)\n",
    "\n",
    "pd.DataFrame.from_dict(identifier2image_size, orient=\"index\").rename_axis(\n",
    "    \"identifier\"\n",
    ").rename(columns={0: \"width\", 1: \"height\"}).to_csv(\"iiif_image_sizes.csv\")"
   ]
  },
  {
   "cell_type": "markdown",
   "metadata": {},
   "source": [
    "Verify that all images match a record and vice versa:"
   ]
  },
  {
   "cell_type": "code",
   "execution_count": 8,
   "metadata": {},
   "outputs": [
    {
     "name": "stdout",
     "output_type": "stream",
     "text": [
      "Some records do not have an image:  {'1553-FO-742-2', '1553-FO-73-2', '1553-FO-360-2', '1553-FO-601-1'}\n"
     ]
    }
   ],
   "source": [
    "# Check that all images have a record\n",
    "images_no_record = set(identifier2image_size.keys()).difference(\n",
    "    metadata[\"identifier_value\"]\n",
    ")\n",
    "if len(images_no_record) != 0:\n",
    "    print(\"Some images do not have a record: \", images_no_record)\n",
    "\n",
    "# Check that all records have an image\n",
    "records_no_image = set(metadata[\"identifier_value\"].values).difference(\n",
    "    identifier2image_size.keys()\n",
    ")\n",
    "if len(records_no_image) != 0:\n",
    "    print(\"Some records do not have an image: \", records_no_image)"
   ]
  },
  {
   "attachments": {},
   "cell_type": "markdown",
   "metadata": {},
   "source": [
    "Remove items that do not have a IIIF value:\n"
   ]
  },
  {
   "cell_type": "code",
   "execution_count": 9,
   "metadata": {},
   "outputs": [],
   "source": [
    "metadata = metadata.loc[metadata[\"identifier_value\"].isin(identifier2image_size.keys())].copy()\n",
    "metadata[\"width_height\"] = metadata[\"identifier_value\"].apply(identifier2image_size.get)"
   ]
  },
  {
   "attachments": {},
   "cell_type": "markdown",
   "metadata": {},
   "source": [
    "Create IIIF mapping\n"
   ]
  },
  {
   "cell_type": "code",
   "execution_count": 10,
   "metadata": {},
   "outputs": [],
   "source": [
    "def identifier_to_base_url(identifier):\n",
    "    return \"https://media.performing-arts.ch/iiif/manifest/\" + quote(identifier)\n",
    "\n",
    "\n",
    "base_metadata = {\n",
    "    \"@context\": \"http://iiif.io/api/presentation/3/context.json\",\n",
    "    \"type\": \"Manifest\",\n",
    "    \"rights\": \"http://creativecommons.org/licenses/by-sa/4.0/\",\n",
    "    \"requiredStatement\": {\n",
    "        \"label\": {\"en\": [\"Copyright\"]},\n",
    "        \"value\": {\"en\": [\"Fred Erismann\"]},\n",
    "    },\n",
    "    \"homepage\": [\n",
    "        {\n",
    "            \"id\": \"https://sapa.swiss\",\n",
    "            \"type\": \"Text\",\n",
    "            \"label\": {\"en\": [\"SAPA Homepage\"]},\n",
    "            \"format\": \"text/html\",\n",
    "        }\n",
    "    ],\n",
    "    \"provider\": [\n",
    "        {\n",
    "            \"id\": \"https://www.wikidata.org/entity/Q50920401\",\n",
    "            \"type\": \"Agent\",\n",
    "            \"label\": {\n",
    "                \"en\": [\"SAPA, Swiss Archive of the Performing Arts\"],\n",
    "                \"de\": [\"Stiftung SAPA, Schweizer Archiv der Darstellenden Künste\"],\n",
    "                \"fr\": [\"Fondation SAPA, Archives suisses des arts de la scène\"],\n",
    "                \"it\": [\"Fondazione SAPA, Archivio svizzero delle arti della scena\"],\n",
    "            },\n",
    "            \"homepage\": [\n",
    "                {\n",
    "                    \"id\": \"https://sapa.swiss/\",\n",
    "                    \"type\": \"Text\",\n",
    "                    \"label\": {\n",
    "                        \"en\": [\n",
    "                            \"The SAPA Foundation, Swiss Archive of the Performing Arts, collects documents and objects of importance to the history of the performing arts and makes them accessible to a wider audience.\"\n",
    "                        ],\n",
    "                        \"de\": [\n",
    "                            \"Die Stiftung SAPA, Schweizer Archiv der Darstellenden Künste, sammelt Dokumente und Objekte, die für die Geschichte der Darstellenden Künste bedeutsam sind, und stellt diese einem breiten Publikum zur Verfügung.\"\n",
    "                        ],\n",
    "                        \"fr\": [\n",
    "                            \"La Fondation SAPA, Archives suisses des arts de la scène, collecte et met à disposition de tous les publics les documents et objets constituant l‘histoire des arts de la scène en Suisse. Sa mission: préserver les traces de ces arts éphémères et complexes pour les transmettre aux générations futures.\"\n",
    "                        ],\n",
    "                        \"it\": [\n",
    "                            \"SAPA raccoglie e mette a disposizione del pubblico documenti e oggetti di rilevanza storica per le arti sceniche in Svizzera. La Fondazione si pone l’obiettivo di preservare le tracce di queste arti effimere e complesse per tramandarle alle generazioni future.\"\n",
    "                        ],\n",
    "                    },\n",
    "                    \"format\": \"text/html\",\n",
    "                }\n",
    "            ],\n",
    "            \"logo\": [\n",
    "                {\n",
    "                    \"id\": \"https://memobase.ch/sites/default/files/2021-05/sap-logo.jpg\",\n",
    "                    \"type\": \"Image\",\n",
    "                    \"format\": \"image/jpeg\",\n",
    "                    \"height\": 100,\n",
    "                    \"width\": 260,\n",
    "                }\n",
    "            ],\n",
    "        }\n",
    "    ],\n",
    "    \"viewingDirection\": \"left-to-right\",\n",
    "}"
   ]
  },
  {
   "cell_type": "code",
   "execution_count": 11,
   "metadata": {},
   "outputs": [],
   "source": [
    "from helpers.iiif import IIIFImageItem, create_manifest_from_iiif_images\n",
    "\n",
    "\n",
    "def metadata_to_manifest(row):\n",
    "    identifier = row[\"identifier_value\"]\n",
    "    base_url = identifier_to_base_url(identifier)\n",
    "    iiif_url = identifier_to_image_base_url(identifier)\n",
    "    width, height = identifier2image_size[identifier]\n",
    "\n",
    "    return create_manifest_from_iiif_images(\n",
    "        base_url,\n",
    "        [IIIFImageItem(iiif_url, width, height)],\n",
    "        base_metadata,\n",
    "        label=row[\"name\"],\n",
    "        summary=row[\"name\"],\n",
    "        sapa_resource=row[\"resource\"],\n",
    "        identifier=identifier,\n",
    "        description=row[\"descriptive_note\"],\n",
    "        creator=\"Fred Erismann\",\n",
    "    )\n",
    "    width, height = row[\"width_height\"]\n",
    "    canvas_url = f\"{base_url}/p1\"\n",
    "    # return base_metadata | {\n",
    "    # \"id\": f\"{base_url}.json\",\n",
    "    # \"label\": {\n",
    "    # \"de\": [row[\"name\"]],\n",
    "    # },\n",
    "    # \"summary\": {\"en\": [row[\"name\"]]},\n",
    "    # \"seeAlso\": [\n",
    "    # {\n",
    "    # \"id\": row[\"resource\"],\n",
    "    # \"type\": \"Text\",\n",
    "    # \"label\": {\"en\": [\"Record on Swiss performing arts platform\"]},\n",
    "    # \"format\": \"text/html\",\n",
    "    # }\n",
    "    # ],\n",
    "    # \"metadata\": [\n",
    "    # {\n",
    "    # \"label\": {\n",
    "    # \"en\": [\"Identifier\"],\n",
    "    # \"de\": [\"Signatur\"],\n",
    "    # \"fr\": [\"Cote\"],\n",
    "    # \"it\": [\"Segnatura\"],\n",
    "    # },\n",
    "    # \"value\": {\n",
    "    # \"en\": [identifier],\n",
    "    # \"de\": [identifier],\n",
    "    # \"fr\": [identifier],\n",
    "    # \"it\": [identifier],\n",
    "    # },\n",
    "    # },\n",
    "    # {\n",
    "    # \"label\": {\n",
    "    # \"en\": [\"Description\"],\n",
    "    # \"de\": [\"Beschreibung\"],\n",
    "    # \"fr\": [\"Description\"],\n",
    "    # \"it\": [\"Descrizione\"],\n",
    "    # },\n",
    "    # \"value\": {\n",
    "    # \"en\": [row[\"descriptive_note\"]],\n",
    "    # \"de\": [row[\"descriptive_note\"]],\n",
    "    # \"fr\": [row[\"descriptive_note\"]],\n",
    "    # \"it\": [row[\"descriptive_note\"]],\n",
    "    # },\n",
    "    # },\n",
    "    # {\n",
    "    # \"label\": {\n",
    "    # \"en\": [\"Creator\"],\n",
    "    # \"de\": [\"Urheber\"],\n",
    "    # \"fr\": [\"Auteur\"],\n",
    "    # \"it\": [\"Autore\"],\n",
    "    # },\n",
    "    # \"value\": {\n",
    "    # \"en\": [\"Fred Erismann\"],\n",
    "    # \"de\": [\"Fred Erismann\"],\n",
    "    # \"fr\": [\"Fred Erismann\"],\n",
    "    # \"it\": [\"Fred Erismann\"],\n",
    "    # },\n",
    "    # },\n",
    "    # ],\n",
    "    # \"thumbnail\": [\n",
    "    # {\n",
    "    # \"id\": f\"{iiif_url}/full/80,/0/default.jpg\",\n",
    "    # \"type\": \"Image\",\n",
    "    # \"format\": \"image/jpeg\",\n",
    "    # \"service\": [\n",
    "    # {\"id\": iiif_url, \"type\": \"ImageService3\", \"profile\": \"level2\"}\n",
    "    # ],\n",
    "    # }\n",
    "    # ],\n",
    "    # \"items\": [\n",
    "    # {\n",
    "    # \"id\": canvas_url,\n",
    "    # \"type\": \"Canvas\",\n",
    "    # \"height\": int(height),\n",
    "    # \"width\": int(width),\n",
    "    # \"rendering\": [\n",
    "    # {\n",
    "    # \"id\": f\"{iiif_url}/full/max/0/default.jpg\",\n",
    "    # \"type\": \"Image\",\n",
    "    # \"label\": {\"de\": \"Bild\", \"fr\": \"Image\", \"en\": \"Picture\"},\n",
    "    # \"format\": \"image/jpeg\",\n",
    "    # }\n",
    "    # ],\n",
    "    # \"items\": [\n",
    "    # {\n",
    "    # \"id\": f\"{canvas_url}/1\",\n",
    "    # \"type\": \"AnnotationPage\",\n",
    "    # \"items\": [\n",
    "    # {\n",
    "    # \"id\": f\"{base_url}/annotation/p0001-image\",\n",
    "    # \"type\": \"Annotation\",\n",
    "    # \"motivation\": \"painting\",\n",
    "    # \"body\": {\n",
    "    # \"id\": f\"{iiif_url}/full/max/0/default.jpg\",\n",
    "    # \"type\": \"Image\",\n",
    "    # \"format\": \"image/jpeg\",\n",
    "    # \"height\": int(height),\n",
    "    # \"width\": int(width),\n",
    "    # \"service\": [\n",
    "    # {\n",
    "    # \"id\": iiif_url,\n",
    "    # \"profile\": \"level1\",\n",
    "    # \"type\": \"ImageService3\",\n",
    "    # }\n",
    "    # ],\n",
    "    # },\n",
    "    # \"target\": f\"{canvas_url}/1\",\n",
    "    # }\n",
    "    # ],\n",
    "    # }\n",
    "    # ],\n",
    "    # }\n",
    "    # ],\n",
    "    # }"
   ]
  },
  {
   "attachments": {},
   "cell_type": "markdown",
   "metadata": {},
   "source": [
    "Comment out to write manifests to files (only needed for debug or uploading elsewhere):"
   ]
  },
  {
   "cell_type": "code",
   "execution_count": 10,
   "metadata": {},
   "outputs": [
    {
     "data": {
      "application/vnd.jupyter.widget-view+json": {
       "model_id": "efe6bb8b4c284ee59d3e199c72cfca30",
       "version_major": 2,
       "version_minor": 0
      },
      "text/plain": [
       "  0%|          | 0/1000 [00:00<?, ?it/s]"
      ]
     },
     "metadata": {},
     "output_type": "display_data"
    }
   ],
   "source": [
    "os.makedirs('manifests', exist_ok=True)\n",
    "for _, item in tqdm(metadata.iterrows(), total=len(metadata)):\n",
    "   with open(\n",
    "       os.path.join(\"manifests\", item[\"identifier_value\"] + \".json\"), \"w\"\n",
    "   ) as outfile:\n",
    "       outfile.write(json.dumps(metadata_to_manifest(item), ensure_ascii=False))"
   ]
  },
  {
   "attachments": {},
   "cell_type": "markdown",
   "metadata": {},
   "source": [
    "Write manifests directly to s3\n"
   ]
  },
  {
   "cell_type": "code",
   "execution_count": 12,
   "metadata": {},
   "outputs": [
    {
     "data": {
      "application/vnd.jupyter.widget-view+json": {
       "model_id": "eb40342cd15044919016e9811d43b751",
       "version_major": 2,
       "version_minor": 0
      },
      "text/plain": [
       "  0%|          | 0/1000 [00:00<?, ?it/s]"
      ]
     },
     "metadata": {},
     "output_type": "display_data"
    }
   ],
   "source": [
    "from helpers.s3 import S3Client\n",
    "\n",
    "\n",
    "client = S3Client(S3_CLIENT_ID, S3_CLIENT_SECRET)\n",
    "\n",
    "for _, item in tqdm(metadata.iterrows(), total=len(metadata)):\n",
    "    client.upload_as_json(metadata_to_manifest(item), \"manifests/\" + item[\"identifier_value\"] + \".json\")"
   ]
  },
  {
   "cell_type": "code",
   "execution_count": null,
   "metadata": {},
   "outputs": [],
   "source": []
  }
 ],
 "metadata": {
  "kernelspec": {
   "display_name": ".venv",
   "language": "python",
   "name": "python3"
  },
  "language_info": {
   "codemirror_mode": {
    "name": "ipython",
    "version": 3
   },
   "file_extension": ".py",
   "mimetype": "text/x-python",
   "name": "python",
   "nbconvert_exporter": "python",
   "pygments_lexer": "ipython3",
   "version": "3.10.14"
  },
  "orig_nbformat": 4
 },
 "nbformat": 4,
 "nbformat_minor": 2
}
