{
 "cells": [
  {
   "cell_type": "code",
   "execution_count": 1,
   "metadata": {},
   "outputs": [],
   "source": [
    "import json\n",
    "import os\n",
    "import requests\n",
    "from urllib.parse import quote\n",
    "\n",
    "import boto3\n",
    "from ipython_secrets import get_secret\n",
    "import pandas as pd\n",
    "from requests.adapters import HTTPAdapter\n",
    "from requests.packages.urllib3.util.retry import Retry\n",
    "from SPARQLWrapper import SPARQLWrapper, JSON\n",
    "from tqdm.auto import tqdm\n",
    "\n",
    "s3_endpoint = get_secret(\"manifest_s3_endpoint\")\n",
    "s3_bucket_name = get_secret(\"manifest_s3_bucket_name\")\n",
    "s3_client_id = get_secret(\"manifest_s3_client_id\")\n",
    "s3_client_secret = get_secret(\"manifest_s3_client_secret\")"
   ]
  },
  {
   "attachments": {},
   "cell_type": "markdown",
   "metadata": {},
   "source": [
    "Get metadata from SAPA platform.\n"
   ]
  },
  {
   "cell_type": "code",
   "execution_count": 2,
   "metadata": {},
   "outputs": [],
   "source": [
    "sparql = SPARQLWrapper(\"https://www.performing-arts.ch/sparql\")\n",
    "\n",
    "sparql.setQuery(\n",
    "    \"\"\"\n",
    "PREFIX rdf: <http://www.w3.org/1999/02/22-rdf-syntax-ns#>\n",
    "PREFIX spav: <http://vocab.performing-arts.ch/>\n",
    "PREFIX rico: <https://www.ica.org/standards/RiC/ontology#>\n",
    "SELECT ?resource ?instance ?identifier_value ?descriptive_note ?name WHERE {\n",
    "  ?resource (rico:isOrWasIncludedIn*) <http://data.performing-arts.ch/r/9636965d-b8e7-4009-950a-8a1f39f89456>;\n",
    "    rico:hasInstantiation ?instance;\n",
    "    rico:hasOrHadIdentifier ?identifier;\n",
    "    rico:descriptiveNote ?descriptive_note;\n",
    "    rico:name ?name.\n",
    "  ?identifier rdf:value ?identifier_value.\n",
    "  ?instance rico:hasCarrierType spav:fvtif.\n",
    "}\n",
    "\"\"\"\n",
    ")\n",
    "sparql.setReturnFormat(JSON)\n",
    "results = sparql.query().convert()\n",
    "\n",
    "metadata = pd.DataFrame.from_dict(\n",
    "    [{k: v[\"value\"] for k, v in x.items()} for x in results[\"results\"][\"bindings\"]]\n",
    ")"
   ]
  },
  {
   "attachments": {},
   "cell_type": "markdown",
   "metadata": {},
   "source": [
    "We try to fetch image sizes from the IIIF. We cache those results for usage next time this script is run, set `force_compute_image_sizes` to `True` if you want to force recompute.\n",
    "You can run this cell as much as needed, as the values are cached, so running it twice may also prevent some errors.\n"
   ]
  },
  {
   "cell_type": "code",
   "execution_count": 19,
   "metadata": {},
   "outputs": [
    {
     "data": {
      "application/vnd.jupyter.widget-view+json": {
       "model_id": "9d48f76cf6264c489227ef820434f9da",
       "version_major": 2,
       "version_minor": 0
      },
      "text/plain": [
       "  0%|          | 0/620 [00:00<?, ?it/s]"
      ]
     },
     "metadata": {},
     "output_type": "display_data"
    },
    {
     "name": "stdout",
     "output_type": "stream",
     "text": [
      "Error with 1553-FO-742-2, URL http://media.performing-arts.ch/iiif/3/image%2F1553-FO-742-2-DC does not exists\n",
      "Error with 1553-FO-360-2, URL http://media.performing-arts.ch/iiif/3/image%2F1553-FO-360-2-DC does not exists\n",
      "Error with 1553-FO-601-1, URL http://media.performing-arts.ch/iiif/3/image%2F1553-FO-601-1-DC does not exists\n"
     ]
    }
   ],
   "source": [
    "force_compute_images_size = False\n",
    "\n",
    "if not force_compute_images_size and os.path.exists(\"iiif_image_sizes.csv\"):\n",
    "    identifier2image_size = (\n",
    "        pd.read_csv(\"iiif_image_sizes.csv\", index_col=0)\n",
    "        .apply(lambda row: (row[\"width\"], row[\"height\"]), axis=1)\n",
    "        .to_dict()\n",
    "    )\n",
    "else:\n",
    "    identifier2image_size = {}\n",
    "\n",
    "s = requests.Session()\n",
    "\n",
    "retries = Retry(total=5, backoff_factor=1, status_forcelist=[429, 500, 502, 503, 504])\n",
    "\n",
    "s.mount(\"https://\", HTTPAdapter(max_retries=retries))\n",
    "\n",
    "for identifier, iiif_url in tqdm(\n",
    "    metadata[[\"identifier_value\", \"instance\"]].values.tolist(), total=len(metadata)\n",
    "):\n",
    "    if identifier in identifier2image_size:\n",
    "        continue\n",
    "    try:\n",
    "        res = s.get(iiif_url)\n",
    "        if res.status_code == 404:\n",
    "            print(f\"Error with {identifier}, URL {iiif_url} does not exists\")\n",
    "            continue\n",
    "        res.raise_for_status()\n",
    "        res_json = res.json()\n",
    "        identifier2image_size[identifier] = (res_json[\"width\"], res_json[\"height\"])\n",
    "    except Exception as e:\n",
    "        print(f\"Error with {identifier}, got the following error with {iiif_url}: \", e)\n",
    "\n",
    "pd.DataFrame.from_dict(identifier2image_size, orient=\"index\").rename_axis(\n",
    "    \"identifier\"\n",
    ").rename(columns={0: \"width\", 1: \"height\"}).to_csv(\"iiif_image_sizes.csv\")"
   ]
  },
  {
   "cell_type": "code",
   "execution_count": 20,
   "metadata": {},
   "outputs": [
    {
     "name": "stdout",
     "output_type": "stream",
     "text": [
      "Some records do not have an image:  {'1553-FO-601-1', '1553-FO-742-2', '1553-FO-360-2'}\n"
     ]
    }
   ],
   "source": [
    "# Check that all images have a record\n",
    "images_no_record = set(identifier2image_size.keys()).difference(\n",
    "    metadata[\"identifier_value\"]\n",
    ")\n",
    "if len(images_no_record) != 0:\n",
    "    print(\"Some images do not have a record: \", images_no_record)\n",
    "\n",
    "# Check that all records have an image\n",
    "records_no_image = set(metadata[\"identifier_value\"].values).difference(\n",
    "    identifier2image_size.keys()\n",
    ")\n",
    "if len(records_no_image) != 0:\n",
    "    print(\"Some records do not have an image: \", records_no_image)"
   ]
  },
  {
   "attachments": {},
   "cell_type": "markdown",
   "metadata": {},
   "source": [
    "Remove items that do not have a IIIF value:\n"
   ]
  },
  {
   "cell_type": "code",
   "execution_count": 21,
   "metadata": {},
   "outputs": [],
   "source": [
    "metadata = metadata.loc[metadata[\"identifier_value\"].isin(identifier2image_size.keys())]\n",
    "metadata[\"width_height\"] = metadata[\"identifier_value\"].apply(identifier2image_size.get)"
   ]
  },
  {
   "attachments": {},
   "cell_type": "markdown",
   "metadata": {},
   "source": [
    "Create IIIF mapping\n"
   ]
  },
  {
   "cell_type": "code",
   "execution_count": 22,
   "metadata": {},
   "outputs": [],
   "source": [
    "def identifier_to_base_url(identifier):\n",
    "    return \"https://media.performing-arts.ch/iiif/manifest/\" + quote(identifier)\n",
    "\n",
    "\n",
    "base_metadata = {\n",
    "    \"@context\": \"http://iiif.io/api/presentation/3/context.json\",\n",
    "    \"type\": \"Manifest\",\n",
    "    \"rights\": \"http://creativecommons.org/licenses/by-sa/4.0/\",\n",
    "    \"requiredStatement\": {\n",
    "        \"label\": {\"en\": [\"Copyright\"]},\n",
    "        \"value\": {\"en\": [\"Fred Erismann\"]},\n",
    "    },\n",
    "    \"homepage\": [\n",
    "        {\n",
    "            \"id\": \"https://sapa.swiss\",\n",
    "            \"type\": \"Text\",\n",
    "            \"label\": {\"en\": [\"SAPA Homepage\"]},\n",
    "            \"format\": \"text/html\",\n",
    "        }\n",
    "    ],\n",
    "    \"provider\": [\n",
    "        {\n",
    "            \"id\": \"https://www.wikidata.org/wiki/Q50920401\",\n",
    "            \"type\": \"Agent\",\n",
    "            \"label\": {\n",
    "                \"en\": [\"SAPA, Swiss Archive of the Performing Arts\"],\n",
    "                \"de\": [\"Stiftung SAPA, Schweizer Archiv der Darstellenden Künste\"],\n",
    "                \"fr\": [\"Fondation SAPA, Archives suisses des arts de la scène\"],\n",
    "                \"it\": [\"Fondazione SAPA, Archivio svizzero delle arti della scena\"],\n",
    "            },\n",
    "            \"homepage\": [\n",
    "                {\n",
    "                    \"id\": \"https://sapa.swiss/\",\n",
    "                    \"type\": \"Text\",\n",
    "                    \"label\": {\n",
    "                        \"en\": [\n",
    "                            \"The SAPA Foundation, Swiss Archive of the Performing Arts, collects documents and objects of importance to the history of the performing arts and makes them accessible to a wider audience.\"\n",
    "                        ],\n",
    "                        \"de\": [\n",
    "                            \"Die Stiftung SAPA, Schweizer Archiv der Darstellenden Künste, sammelt Dokumente und Objekte, die für die Geschichte der Darstellenden Künste bedeutsam sind, und stellt diese einem breiten Publikum zur Verfügung.\"\n",
    "                        ],\n",
    "                        \"fr\": [\n",
    "                            \"La Fondation SAPA, Archives suisses des arts de la scène, collecte et met à disposition de tous les publics les documents et objets constituant l‘histoire des arts de la scène en Suisse. Sa mission: préserver les traces de ces arts éphémères et complexes pour les transmettre aux générations futures.\"\n",
    "                        ],\n",
    "                        \"it\": [\n",
    "                            \"SAPA raccoglie e mette a disposizione del pubblico documenti e oggetti di rilevanza storica per le arti sceniche in Svizzera. La Fondazione si pone l’obiettivo di preservare le tracce di queste arti effimere e complesse per tramandarle alle generazioni future.\"\n",
    "                        ],\n",
    "                    },\n",
    "                    \"format\": \"text/html\",\n",
    "                }\n",
    "            ],\n",
    "            \"logo\": [\n",
    "                {\n",
    "                    \"id\": \"https://memobase.ch/sites/default/files/2021-05/sap-logo.jpg\",\n",
    "                    \"type\": \"Image\",\n",
    "                    \"format\": \"image/jpeg\",\n",
    "                    \"height\": 100,\n",
    "                    \"width\": 260,\n",
    "                }\n",
    "            ],\n",
    "        }\n",
    "    ],\n",
    "    \"viewingDirection\": \"left-to-right\",\n",
    "}"
   ]
  },
  {
   "cell_type": "code",
   "execution_count": 23,
   "metadata": {},
   "outputs": [],
   "source": [
    "def metadata_to_manifest(row):\n",
    "    identifier = row[\"identifier_value\"]\n",
    "    base_url = identifier_to_base_url(identifier)\n",
    "    width, height = row[\"width_height\"]\n",
    "    canvas_url = f\"{base_url}/p1\"\n",
    "    iiif_url = f\"https://media.performing-arts.ch/iiif/3/image%2F{identifier}-DC\"\n",
    "    return base_metadata | {\n",
    "        \"id\": f\"{base_url}.json\",\n",
    "        \"label\": {\n",
    "            \"de\": [row[\"name\"]],\n",
    "        },\n",
    "        \"summary\": {\"en\": [row[\"name\"]]},\n",
    "        \"seeAlso\": [\n",
    "            {\n",
    "                \"id\": row[\"resource\"],\n",
    "                \"type\": \"Text\",\n",
    "                \"label\": {\"en\": [\"Record on Metaphacts\"]},\n",
    "                \"format\": \"text/html\",\n",
    "            }\n",
    "        ],\n",
    "        \"metadata\": [\n",
    "            {\n",
    "                \"label\": {\n",
    "                    \"en\": [\"Identifier\"],\n",
    "                    \"de\": [\"Signatur\"],\n",
    "                    \"fr\": [\"Cote\"],\n",
    "                    \"it\": [\"Segnatura\"],\n",
    "                },\n",
    "                \"value\": {\n",
    "                    \"en\": [identifier],\n",
    "                    \"de\": [identifier],\n",
    "                    \"fr\": [identifier],\n",
    "                    \"it\": [identifier],\n",
    "                },\n",
    "            },\n",
    "            {\n",
    "                \"label\": {\n",
    "                    \"en\": [\"Description\"],\n",
    "                    \"de\": [\"Beschreibung\"],\n",
    "                    \"fr\": [\"Description\"],\n",
    "                    \"it\": [\"Descrizione\"],\n",
    "                },\n",
    "                \"value\": {\n",
    "                    \"en\": [row[\"descriptive_note\"]],\n",
    "                    \"de\": [row[\"descriptive_note\"]],\n",
    "                    \"fr\": [row[\"descriptive_note\"]],\n",
    "                    \"it\": [row[\"descriptive_note\"]],\n",
    "                },\n",
    "            },\n",
    "            {\n",
    "                \"label\": {\n",
    "                    \"en\": [\"Creator\"],\n",
    "                    \"de\": [\"Urheber\"],\n",
    "                    \"fr\": [\"Auteur\"],\n",
    "                    \"it\": [\"Autore\"],\n",
    "                },\n",
    "                \"value\": {\n",
    "                    \"en\": [\"Fred Erismann\"],\n",
    "                    \"de\": [\"Fred Erismann\"],\n",
    "                    \"fr\": [\"Fred Erismann\"],\n",
    "                    \"it\": [\"Fred Erismann\"],\n",
    "                },\n",
    "            },\n",
    "        ],\n",
    "        \"thumbnail\": [\n",
    "            {\n",
    "                \"id\": f\"{iiif_url}/full/80,/0/default.jpg\",\n",
    "                \"type\": \"Image\",\n",
    "                \"format\": \"image/jpeg\",\n",
    "                \"service\": [\n",
    "                    {\"id\": iiif_url, \"type\": \"ImageService3\", \"profile\": \"level2\"}\n",
    "                ],\n",
    "            }\n",
    "        ],\n",
    "        \"items\": [\n",
    "            {\n",
    "                \"id\": canvas_url,\n",
    "                \"type\": \"Canvas\",\n",
    "                \"height\": height,\n",
    "                \"width\": width,\n",
    "                \"items\": [\n",
    "                    {\n",
    "                        \"id\": f\"{canvas_url}/1\",\n",
    "                        \"type\": \"AnnotationPage\",\n",
    "                        \"items\": [\n",
    "                            {\n",
    "                                \"id\": f\"{base_url}/annotation/p0001-image\",\n",
    "                                \"type\": \"Annotation\",\n",
    "                                \"motivation\": \"painting\",\n",
    "                                \"body\": {\n",
    "                                    \"id\": f\"{iiif_url}/full/max/0/default.jpg\",\n",
    "                                    \"type\": \"Image\",\n",
    "                                    \"format\": \"image/jpeg\",\n",
    "                                    \"height\": height,\n",
    "                                    \"width\": width,\n",
    "                                    \"service\": [\n",
    "                                        {\n",
    "                                            \"id\": iiif_url,\n",
    "                                            \"profile\": \"level1\",\n",
    "                                            \"type\": \"ImageService3\",\n",
    "                                        }\n",
    "                                    ],\n",
    "                                },\n",
    "                                \"target\": f\"{canvas_url}/1\",\n",
    "                            }\n",
    "                        ],\n",
    "                    }\n",
    "                ],\n",
    "            }\n",
    "        ],\n",
    "    }"
   ]
  },
  {
   "attachments": {},
   "cell_type": "markdown",
   "metadata": {},
   "source": [
    "Comment out to write manifests to files:\n"
   ]
  },
  {
   "cell_type": "code",
   "execution_count": 24,
   "metadata": {},
   "outputs": [],
   "source": [
    "# for _, item in tqdm(metadata.iterrows(), total=len(metadata)):\n",
    "#    with open(\n",
    "#        os.path.join(\"manifests\", item[\"identifier_value\"] + \".json\"), \"w\"\n",
    "#    ) as outfile:\n",
    "#        outfile.write(json.dumps(metadata_to_manifest(item), ensure_ascii=False))"
   ]
  },
  {
   "attachments": {},
   "cell_type": "markdown",
   "metadata": {},
   "source": [
    "Write manifests directly to s3\n"
   ]
  },
  {
   "cell_type": "code",
   "execution_count": 26,
   "metadata": {},
   "outputs": [
    {
     "data": {
      "application/vnd.jupyter.widget-view+json": {
       "model_id": "b99d0a2a26e84b5796953d1b7bec5fa4",
       "version_major": 2,
       "version_minor": 0
      },
      "text/plain": [
       "  0%|          | 0/617 [00:00<?, ?it/s]"
      ]
     },
     "metadata": {},
     "output_type": "display_data"
    }
   ],
   "source": [
    "s3_session = boto3.session.Session()\n",
    "\n",
    "s3_client = s3_session.client(\n",
    "    service_name=\"s3\",\n",
    "    aws_access_key_id=s3_client_id,\n",
    "    aws_secret_access_key=s3_client_secret,\n",
    "    endpoint_url=s3_endpoint,\n",
    ")\n",
    "\n",
    "for _, item in tqdm(metadata.iterrows(), total=len(metadata)):\n",
    "    s3_client.put_object(\n",
    "        Body=bytes(\n",
    "            json.dumps(metadata_to_manifest(item), ensure_ascii=False).encode(\"utf-8\")\n",
    "        ),\n",
    "        Bucket=s3_bucket_name,\n",
    "        Key=\"manifests/\" + item[\"identifier_value\"] + \".json\",\n",
    "    )"
   ]
  }
 ],
 "metadata": {
  "kernelspec": {
   "display_name": "data",
   "language": "python",
   "name": "python3"
  },
  "language_info": {
   "codemirror_mode": {
    "name": "ipython",
    "version": 3
   },
   "file_extension": ".py",
   "mimetype": "text/x-python",
   "name": "python",
   "nbconvert_exporter": "python",
   "pygments_lexer": "ipython3",
   "version": "3.9.0"
  },
  "orig_nbformat": 4
 },
 "nbformat": 4,
 "nbformat_minor": 2
}
