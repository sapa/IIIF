{
 "cells": [
  {
   "cell_type": "code",
   "execution_count": 1,
   "metadata": {},
   "outputs": [],
   "source": [
    "%load_ext autoreload\n",
    "%autoreload 2\n",
    "import os\n",
    "import sys\n",
    "module_path = os.path.abspath(os.path.join(\"..\"))\n",
    "if module_path not in sys.path:\n",
    "    sys.path.append(module_path)\n",
    "\n",
    "from getpass import getpass\n",
    "from urllib.parse import quote\n",
    "from copy import deepcopy\n",
    "\n",
    "import pandas as pd\n",
    "import numpy as np\n",
    "from SPARQLWrapper import JSON, SPARQLWrapper\n",
    "import time\n",
    "from tqdm.notebook import tqdm\n",
    "from typing import TypeVar, List, Callable\n",
    "from helpers import s3, iiif\n",
    "import requests\n",
    "from requests.adapters import HTTPAdapter\n",
    "from urllib3.util import Retry\n",
    "from rdflib.namespace import RDF\n",
    "from rdflib import Graph, URIRef, Namespace\n",
    "SPAV = Namespace('http://vocab.performing-arts.ch/')\n",
    "RICO = Namespace('https://www.ica.org/standards/RiC/ontology#')\n",
    "try:\n",
    "    S3_CLIENT_ID\n",
    "except NameError:\n",
    "    S3_CLIENT_ID = getpass(\"Please input s3 client id\")\n",
    "\n",
    "try:\n",
    "    S3_CLIENT_SECRET\n",
    "except NameError:\n",
    "    S3_CLIENT_SECRET = getpass(\"Please input s3 client secret\")\n",
    "\n",
    "try:\n",
    "    SPARQL_USERNAME\n",
    "except NameError:\n",
    "    SPARQL_USERNAME = getpass(\"Please input sparql username\")\n",
    "\n",
    "try:\n",
    "    SPARQL_PASSWORD\n",
    "except NameError:\n",
    "    SPARQL_PASSWORD = getpass(\"Please input sparql password\")\n",
    "\n",
    "tqdm.pandas()"
   ]
  },
  {
   "cell_type": "code",
   "execution_count": 2,
   "metadata": {},
   "outputs": [
    {
     "data": {
      "application/vnd.jupyter.widget-view+json": {
       "model_id": "557eba44648040ce825fd0b266f45da4",
       "version_major": 2,
       "version_minor": 0
      },
      "text/plain": [
       "0it [00:00, ?it/s]"
      ]
     },
     "metadata": {},
     "output_type": "display_data"
    }
   ],
   "source": [
    "sparql = SPARQLWrapper(\"https://www.performing-arts.ch/sparql\")\n",
    "sparql.setReturnFormat(JSON)\n",
    "\n",
    "base_query = \"\"\"\n",
    "PREFIX olo: <http://purl.org/ontology/olo/core#>\n",
    "PREFIX spao: <http://ontology.performing-arts.ch/>\n",
    "PREFIX rdf: <http://www.w3.org/1999/02/22-rdf-syntax-ns#>\n",
    "PREFIX spav: <http://vocab.performing-arts.ch/>\n",
    "PREFIX rico: <https://www.ica.org/standards/RiC/ontology#>\n",
    "PREFIX crm: <http://www.cidoc-crm.org/cidoc-crm/>\n",
    "\n",
    "SELECT ?iiifURI ?resource ?index ?descriptiveNote ?resourceName ?identifierValue ?resourceType ?parentResource ?parentIndex ?parentIdentifierValue ?parentName ?parentDescriptiveNote ?parentType ?grandParentResource ?grandParentIndex ?grandParentIdentifierValue ?grandParentName ?grandParentDescriptiveNote ?grandParentType WHERE {{\n",
    "  ?resource rico:hasInstantiation ?instance.\n",
    "  ?instance rico:hasCarrierType spav:fvman .\n",
    "  OPTIONAL {{?resource rico:hasOrHadIdentifier ?identifier .\n",
    "    ?identifier rdf:value ?identifierValue.\n",
    "      {{ ?identifier crm:P2_has_type spav:iduni. }}\n",
    "    \tUNION\n",
    "    {{ ?identifier crm:P2_has_type spav:idcon. }}\n",
    "  }}\n",
    "  OPTIONAL {{ ?resource olo:index ?index . }}\n",
    "  OPTIONAL {{ ?resource rico:descriptiveNote ?descriptiveNote . }}\n",
    "  OPTIONAL {{?resource rico:name ?resourceName . }}\n",
    "  OPTIONAL {{ ?resource rico:hasRecordSetType ?resourceType . }}\n",
    "  ?resource (rico:isOrWasIncludedIn+) ?parentResource.\n",
    "  OPTIONAL {{\n",
    "    ?parentResource rico:hasOrHadIdentifier ?parentIdentifier.\n",
    "    {{ ?parentIdentifier crm:P2_has_type spav:iduni. }}\n",
    "    UNION\n",
    "    {{ ?parentIdentifier crm:P2_has_type spav:idcon. }}\n",
    "    ?parentIdentifier rdf:value ?parentIdentifierValue.\n",
    "  }}\n",
    "   OPTIONAL {{ ?parentResource olo:index ?parentIndex . }}\n",
    "  OPTIONAL {{ ?parentResource rico:descriptiveNote ?parentDescriptiveNote . }}\n",
    "  OPTIONAL {{ ?parentResource rico:name ?parentName . }}\n",
    "  OPTIONAL {{ ?parentResource rico:hasRecordSetType ?parentType . }}\n",
    "  ?parentResource rico:isOrWasIncludedIn ?grandParentResource.\n",
    "  OPTIONAL {{\n",
    "    ?grandParentResource rico:hasOrHadIdentifier ?grandParentIdentifier.\n",
    "    {{ ?grandParentIdentifier crm:P2_has_type spav:iduni. }}\n",
    "    UNION\n",
    "    {{ ?grandParentIdentifier crm:P2_has_type spav:idcon. }}\n",
    "    ?grandParentIdentifier rdf:value ?grandParentIdentifierValue.\n",
    "  }}\n",
    "    OPTIONAL {{ ?grandParentResource olo:index ?grandParentIndex . }}\n",
    "\n",
    "  OPTIONAL {{ ?grandParentResource rico:descriptiveNote ?grandParentDescriptiveNote . }}\n",
    "  OPTIONAL {{ ?grandParentResource rico:name ?grandParentName . }}\n",
    "  OPTIONAL {{ ?grandParentResource rico:hasRecordSetType ?grandParentType . }}\n",
    "  FILTER (!regex(str(?instance), \"/collection\")) . \n",
    "  BIND(?instance AS ?iiifURI)\n",
    "}} LIMIT {} OFFSET {}\n",
    "\"\"\"\n",
    "data = []\n",
    "start = 0\n",
    "limit = 10000\n",
    "bar = tqdm()\n",
    "while True:\n",
    "    sparql.setQuery(base_query.format(limit, start))\n",
    "    results = sparql.query().convert()[\"results\"][\"bindings\"]\n",
    "    if len(results) == 0:\n",
    "        break\n",
    "    data.extend([{k: v[\"value\"] for k, v in x.items()} for x in results])\n",
    "    bar.update(len(results))\n",
    "    start += limit\n",
    "\n",
    "data = pd.DataFrame.from_dict(\n",
    "    data\n",
    ")"
   ]
  },
  {
   "cell_type": "code",
   "execution_count": 3,
   "metadata": {},
   "outputs": [],
   "source": [
    "info_columns = [\"resourceURI\", \"identifier\", \"index\", \"descriptivenote\", \"type\", \"name\", \"manifestURI\"]\n",
    "## Get resources\n",
    "resources = data.set_index(\"resource\")[\n",
    "    [\"identifierValue\", \"index\", \"descriptiveNote\", \"resourceType\", \"resourceName\", \"iiifURI\"]\n",
    "]\n",
    "resources = resources.loc[~resources.index.duplicated(keep=\"first\")]\n",
    "resources.reset_index(inplace=True)\n",
    "resources.columns = info_columns\n",
    "resources[\"index\"] = resources[\"index\"].apply(lambda x: x.zfill(9) if pd.notna(x) else x)\n",
    "resources.replace({np.nan: None}, inplace=True)\n",
    "\n",
    "## Get parents\n",
    "parents = data.set_index(\"parentResource\")[\n",
    "    [\"parentIdentifierValue\", \"parentIndex\", \"parentDescriptiveNote\", \"parentType\", \"parentName\"]\n",
    "]\n",
    "parents = parents.loc[~parents.index.duplicated(keep=\"first\")]\n",
    "parents[\"iiifURI\"] = None\n",
    "parents.reset_index(inplace=True)\n",
    "parents.columns = info_columns\n",
    "parents[\"index\"] = parents[\"index\"].apply(lambda x: x.zfill(9) if pd.notna(x) else x)\n",
    "parents.replace({np.nan: None}, inplace=True)\n",
    "\n",
    "## Get grand parents\n",
    "grand_parents = data.set_index(\"grandParentResource\")[\n",
    "    [\"grandParentIdentifierValue\", \"grandParentIndex\", \"grandParentDescriptiveNote\", \"grandParentType\", \"grandParentName\"]\n",
    "]\n",
    "grand_parents = grand_parents.loc[~grand_parents.index.duplicated(keep=\"first\")]\n",
    "grand_parents[\"iiifURI\"] = None\n",
    "grand_parents.reset_index(inplace=True)\n",
    "grand_parents.columns = info_columns\n",
    "grand_parents[\"index\"] = grand_parents[\"index\"].apply(lambda x: x.zfill(9) if pd.notna(x) else x)\n",
    "grand_parents.replace({np.nan: None}, inplace=True)\n",
    "\n",
    "# Map URI to infos\n",
    "resourceURI2infos = (resources.assign(uri=resources[\"resourceURI\"]).set_index(\"resourceURI\").to_dict(orient=\"index\") |\n",
    "                    parents.assign(uri=parents[\"resourceURI\"]).set_index(\"resourceURI\").to_dict(orient=\"index\") |\n",
    "                    grand_parents.assign(uri=grand_parents[\"resourceURI\"]).set_index(\"resourceURI\").to_dict(orient=\"index\"))\n",
    "\n",
    "infos = pd.DataFrame.from_records(list(resourceURI2infos.values()))\n",
    "\n",
    "# root nodes are node that are never parent\n",
    "root_nodes = (\n",
    "    data.loc[\n",
    "        ~data[\"grandParentResource\"].isin(data[\"parentResource\"]), \"grandParentResource\"\n",
    "    ]\n",
    "    .drop_duplicates(keep=\"first\")\n",
    "    .values.tolist()\n",
    ")\n",
    "\n",
    "# Parent nodes are nodes that are never grand parents\n",
    "parent_nodes = (\n",
    "    data.loc[\n",
    "        ~data[\"parentResource\"].isin(data[\"grandParentResource\"]), \"parentResource\"\n",
    "    ]\n",
    "    .drop_duplicates(keep=\"first\")\n",
    "    .values.tolist()\n",
    ")\n",
    "\n",
    "# Children are children of grand parents or children of leaves nodes\n",
    "resourceURI2children = (\n",
    "    data.groupby(\"grandParentResource\")[\"parentResource\"].apply(set).to_dict()\n",
    ") | (\n",
    "    data.loc[data[\"parentResource\"].isin(parent_nodes)]\n",
    "    .groupby(\"parentResource\")[\"resource\"]\n",
    "    .apply(set)\n",
    "    .to_dict()\n",
    ")\n",
    "\n",
    "manifestURI2resourceURI = resourceURI2infos.values()"
   ]
  },
  {
   "cell_type": "code",
   "execution_count": 4,
   "metadata": {},
   "outputs": [
    {
     "data": {
      "application/vnd.jupyter.widget-view+json": {
       "model_id": "fe12c03258804b9f8931764a92972e02",
       "version_major": 2,
       "version_minor": 0
      },
      "text/plain": [
       "  0%|          | 0/1800 [00:00<?, ?it/s]"
      ]
     },
     "metadata": {},
     "output_type": "display_data"
    }
   ],
   "source": [
    "s = requests.Session()\n",
    "\n",
    "retries = Retry(total=5, backoff_factor=1, status_forcelist=[429, 500, 502, 503, 504])\n",
    "\n",
    "s.mount(\"https://\", HTTPAdapter(max_retries=retries))\n",
    "\n",
    "def manifest_to_items(manifest_uri):\n",
    "    try:\n",
    "        res = s.get(manifest_uri)\n",
    "        if res.status_code == 404:\n",
    "            print(f\"Error with {manifest_uri}, it does not exists\")\n",
    "            return []\n",
    "        res.raise_for_status()\n",
    "        res_json = res.json()\n",
    "        return res_json['items']\n",
    "    except Exception as e:\n",
    "        print(f\"Error with {manifest_uri}: \", e)\n",
    "        return []\n",
    "\n",
    "manifest_uri_to_items = { uri : manifest_to_items(uri) for uri in tqdm(resources['manifestURI'].tolist())}"
   ]
  },
  {
   "cell_type": "code",
   "execution_count": 5,
   "metadata": {},
   "outputs": [],
   "source": [
    "from collections import defaultdict\n",
    "\n",
    "def get_first_not_none(dict_obj, keys):\n",
    "    for key_ in keys:\n",
    "        if dict_obj.get(key_) is not None:\n",
    "            return dict_obj.get(key_)\n",
    "    return None\n",
    "\n",
    "def expand_identifier(identifier: str):\n",
    "    return tuple([int(x) if x.isdigit() else x for x in identifier.split(\"-\")])\n",
    "\n",
    "def resource_uri_sorting(resource_uri):\n",
    "    resource = resourceURI2infos.get(resource_uri)\n",
    "    if resource is not None:\n",
    "        if resource.get(\"index\") is not None:\n",
    "            return resource.get(\"index\")\n",
    "        elif resource.get(\"identifier\") is not None:\n",
    "            return expand_identifier(resource.get(\"identifier\"))\n",
    "        else:\n",
    "            return resource.get(\"name\")\n",
    "    return resource_uri\n",
    "\n",
    "def get_ordered_descendants_with_manifests(resource_uri, infos):\n",
    "    for child_uri in sorted(resourceURI2children.get(resource_uri, []), key=resource_uri_sorting):\n",
    "        child = resourceURI2infos.get(child_uri)\n",
    "        if child is None:\n",
    "            print(f\"Error finding infos for {child_uri}\")\n",
    "        manifest_uri = child[\"manifestURI\"]\n",
    "        if manifest_uri is not None:\n",
    "            infos.append(child)\n",
    "        get_ordered_descendants_with_manifests(child_uri, infos)\n",
    "    return infos"
   ]
  },
  {
   "cell_type": "code",
   "execution_count": 6,
   "metadata": {},
   "outputs": [],
   "source": [
    "def identifier_to_base_manifest_uri(identifier):\n",
    "    return f\"https://media.performing-arts.ch/iiif/manifest/collection-{quote(identifier)}\"\n",
    "\n",
    "\n",
    "def add_uri_rendering_to_item(iiif_item, uri):\n",
    "    if \"rendering\" in iiif_item and len([x for x in iiif_item[\"rendering\"] if x[\"id\"] == uri]) == 0:\n",
    "        iiif_item[\"rendering\"].append(\n",
    "            {\n",
    "                \"id\": uri,\n",
    "                \"type\": \"Text\",\n",
    "                \"label\": {\"en\": [\"Record on Swiss performing arts platform\"]},\n",
    "                \"format\": \"text/html\",\n",
    "            }\n",
    "        )\n",
    "    return iiif_item\n",
    "\n",
    "\n",
    "def add_label_to_item_if_needed(iiif_item, label):\n",
    "    if label is not None and (\"label\" not in iiif_item or\n",
    "                              iiif_item[\"label\"].get(\"en\", [\"\"])[0].startswith(\"Picture \")):\n",
    "        iiif_item[\"label\"] = iiif.create_multilingual(label)\n",
    "    return iiif_item\n",
    "\n",
    "\n",
    "def get_items(manifest_descendants):\n",
    "    items = []\n",
    "    global_index = 0\n",
    "    for info in manifest_descendants:\n",
    "        manifest_items = manifest_uri_to_items.get(info[\"manifestURI\"], [])\n",
    "        num_manifest_items = len(manifest_items)\n",
    "        for item_index, item in enumerate(manifest_items):\n",
    "            item = deepcopy(item)\n",
    "            item = add_uri_rendering_to_item(item, info[\"uri\"])\n",
    "            item = add_label_to_item_if_needed(\n",
    "                item,\n",
    "                build_item_label(info, item_index, num_manifest_items, global_index),\n",
    "            )\n",
    "            items.append(item)\n",
    "            global_index += 1\n",
    "    return items\n",
    "\n",
    "\n",
    "def build_item_label(info, local_index, local_count, global_index):\n",
    "    label = \"\"\n",
    "    identifier = info.get(\"identifier\")\n",
    "    name = info.get(\"name\")\n",
    "    if identifier is not None and len(identifier) > 0:\n",
    "        label += identifier \n",
    "        if name is not None:\n",
    "            label += \" \"\n",
    "        else:\n",
    "            label += (f\"-{local_index + 1}\" if local_count > 1 else \"\")\n",
    "    \n",
    "    if name is not None and len(name) > 0:\n",
    "        label += name \n",
    "        if identifier is None:\n",
    "            label += (f\" - {local_index + 1}\" if local_count > 1 else \"\")\n",
    "    \n",
    "    if len(label) == 0:\n",
    "        return {\n",
    "            \"de\": f\"Bild {global_index + 1}\",\n",
    "            \"fr\": f\"Image {global_index + 1}\",\n",
    "            \"en\": f\"Picture {global_index + 1}\",\n",
    "            \"it\": f\"Immagine {global_index + 1}\",\n",
    "        }\n",
    "    return label\n",
    "\n",
    "\n",
    "copyright = {\n",
    "    \"en\": \"Various copyrights apply, please check individual records on the SAPA platform.\",\n",
    "    \"fr\": \"Différents droits d'auteur s'appliquent, veuillez vérifier les entrées individuelles sur la plateforme SAPA.\",\n",
    "    \"de\": \"Es gelten verschiedene Copyrights, bitte beachten Sie die einzelnen Einträge auf der SAPA-Plattform.\",\n",
    "}\n",
    "base_metadata = iiif.get_manifest_base_metadata(copyright, None)"
   ]
  },
  {
   "cell_type": "code",
   "execution_count": 12,
   "metadata": {},
   "outputs": [],
   "source": [
    "def uri_to_manifest(uri, identifier):\n",
    "    infos = resourceURI2infos.get(uri)\n",
    "    base_manifest_uri = identifier_to_base_manifest_uri(identifier)\n",
    "    manifest_descendants = get_ordered_descendants_with_manifests(uri, [])\n",
    "    items = get_items(manifest_descendants)\n",
    "    return iiif.create_manifest(base_manifest_uri, items, base_metadata, label = infos[\"name\"], summary=infos[\"name\"], sapa_resource=uri, identifier=infos[\"identifier\"], description=infos[\"descriptivenote\"])"
   ]
  },
  {
   "cell_type": "code",
   "execution_count": 13,
   "metadata": {},
   "outputs": [],
   "source": [
    "client = s3.S3Client(S3_CLIENT_ID, S3_CLIENT_SECRET)"
   ]
  },
  {
   "cell_type": "code",
   "execution_count": 14,
   "metadata": {},
   "outputs": [],
   "source": [
    "def create_and_upload_collection_manifest_for_self_and_children(uri: str, bar = None):\n",
    "    infos = resourceURI2infos.get(uri)\n",
    "    identifier = infos.get(\"identifier\") if infos.get(\"identifier\") is not None else uri.split(\"/\")[-1] # If we don't have an identifier, create one based on the URI\n",
    "    manifest = uri_to_manifest(uri, identifier)\n",
    "    client.upload_as_json(manifest, \"manifests/collection-\" + identifier + \".json\")\n",
    "    children = resourceURI2children.get(uri, [])\n",
    "    if bar is not None:\n",
    "        bar.total += len(children)\n",
    "        bar.update(1)\n",
    "    for child_uri in children:\n",
    "        infos = resourceURI2infos.get(child_uri)\n",
    "        if infos is not None and infos.get(\"manifestURI\") is None:\n",
    "            create_and_upload_collection_manifest_for_self_and_children(child_uri, bar)\n",
    "        elif bar is not None:\n",
    "            bar.update(1)"
   ]
  },
  {
   "cell_type": "code",
   "execution_count": 15,
   "metadata": {},
   "outputs": [],
   "source": [
    "uri_1553_1 = \"http://data.performing-arts.ch/r/9636965d-b8e7-4009-950a-8a1f39f89456\"\n",
    "uri_1552_1 = \"http://data.performing-arts.ch/r/caead728-064b-4fed-8d81-a8ab2c328f97\"\n",
    "uris = [uri_1553_1, uri_1552_1]"
   ]
  },
  {
   "cell_type": "code",
   "execution_count": 16,
   "metadata": {},
   "outputs": [
    {
     "data": {
      "application/vnd.jupyter.widget-view+json": {
       "model_id": "549609d2495a480396f7aa0869777bf7",
       "version_major": 2,
       "version_minor": 0
      },
      "text/plain": [
       "  0%|          | 0/2 [00:00<?, ?it/s]"
      ]
     },
     "metadata": {},
     "output_type": "display_data"
    }
   ],
   "source": [
    "bar = tqdm(total=len(uris))\n",
    "for uri in uris:\n",
    "    create_and_upload_collection_manifest_for_self_and_children(uri, bar)\n",
    "    bar.update(1)"
   ]
  },
  {
   "cell_type": "code",
   "execution_count": 151,
   "metadata": {},
   "outputs": [],
   "source": [
    "base_ldp_url = 'https://www.performing-arts.ch/rdf-graph-store?graph='\n",
    "\n",
    "s = requests.Session()\n",
    "\n",
    "retries = Retry(total=5, backoff_factor=1, status_forcelist=[429, 500, 502, 503, 504])\n",
    "\n",
    "s.mount(\"https://\", HTTPAdapter(max_retries=retries))\n",
    "\n",
    "def get_graph(graph_uri):\n",
    "    graph_request = s.get(base_ldp_url + quote(graph_uri, safe=''), auth=(SPARQL_USERNAME, SPARQL_PASSWORD), headers={'Accept': 'application/rdf+xml; charset=UTF-8'}, timeout=10)\n",
    "    graph_request.raise_for_status()\n",
    "    graph = Graph()\n",
    "    graph.parse(data=graph_request.text, format='xml')\n",
    "    return graph\n",
    "\n",
    "def update_graph(graph, graph_uri):\n",
    "    serialized_graph = graph.serialize(format='pretty-xml', encoding='utf-8')\n",
    "    graph_update_request = s.put(base_ldp_url + quote(graph_uri, safe=''), data=serialized_graph, auth=(SPARQL_USERNAME, SPARQL_PASSWORD), headers={'Content-Type': 'application/rdf+xml; charset=UTF-8'})\n",
    "    graph_update_request.raise_for_status()\n",
    "\n",
    "def graph_uris_of_descendants(parent_record_uri):\n",
    "    sparql = SPARQLWrapper(\"https://www.performing-arts.ch/sparql\")\n",
    "\n",
    "    sparql.setQuery(\n",
    "        f\"\"\"\n",
    "        PREFIX rico: <https://www.ica.org/standards/RiC/ontology#>\n",
    "        SELECT (SAMPLE(?g) as ?g) (SAMPLE(?record) as ?record)\n",
    "        WHERE {{\n",
    "            {{ ?record rico:isOrWasIncludedIn+ <{parent_record_uri}>.}}\n",
    "            graph ?g {{ ?record a ?type }}\n",
    "        }}\n",
    "        GROUP BY ?record\n",
    "    \"\"\"\n",
    "    )\n",
    "    sparql.setReturnFormat(JSON)\n",
    "    results = sparql.query().convert()\n",
    "    if len(results['results'][\"bindings\"]) == 0:\n",
    "        return {}\n",
    "    return pd.DataFrame.from_dict(\n",
    "    [{k: v[\"value\"] for k, v in x.items()} for x in results[\"results\"][\"bindings\"]]).set_index(\"record\")[\"g\"].to_dict()\n",
    "\n",
    "def get_graph_by_uri(uri: URIRef):\n",
    "    sparql = SPARQLWrapper(\"https://www.performing-arts.ch/sparql\")\n",
    "    sparql.setQuery(\n",
    "        f\"\"\"\n",
    "SELECT ?graph\n",
    "WHERE {{\n",
    "  GRAPH ?graph {{ \n",
    "    <{uri}> a ?type .\n",
    "  }}\n",
    "}}\n",
    "\"\"\"\n",
    "    )\n",
    "    sparql.setReturnFormat(JSON)\n",
    "    results = sparql.query().convert()[\"results\"][\"bindings\"]\n",
    "    assert len(results) > 0, \"Found no matching graph\"\n",
    "    results = pd.DataFrame.from_dict(\n",
    "        [{k: v[\"value\"] for k, v in x.items()} for x in results]\n",
    "    )\n",
    "    assert len(results['graph'].unique()) == 1, f\"Found more than one matching graph, found {len(results['graph'].unique())}\"\n",
    "    return results['graph'].iloc[0]\n"
   ]
  },
  {
   "cell_type": "code",
   "execution_count": 152,
   "metadata": {},
   "outputs": [],
   "source": [
    "def add_collection_to_record(record_uri, record_graph_uri):\n",
    "    infos = resourceURI2infos.get(record_uri)\n",
    "    if infos is None or infos.get(\"manifestURI\") is not None:\n",
    "        return\n",
    "    identifier = infos.get(\"identifier\") if infos.get(\"identifier\") is not None else record_uri.split(\"/\")[-1] # If we don't have an identifier, create one based on the URI\n",
    "    record_graph = get_graph(record_graph_uri)\n",
    "    iiif_manifest_uri = URIRef(identifier_to_base_manifest_uri(identifier)+\".json\")\n",
    "    record_graph.remove((iiif_manifest_uri, None, None))\n",
    "    record_graph.remove((None, None, iiif_manifest_uri))\n",
    "    record_graph.add((URIRef(record_uri), RICO.hasInstantiation, iiif_manifest_uri))\n",
    "\n",
    "    record_graph.add((iiif_manifest_uri, RDF.type, RICO.Instantiation))\n",
    "    record_graph.add((iiif_manifest_uri, RICO.hasCarrierType, SPAV.fvman))\n",
    "    record_graph.add((iiif_manifest_uri, RICO.hasRepresentationType, SPAV.rtvs))\n",
    "\n",
    "    update_graph(record_graph, record_graph_uri)\n",
    "    time.sleep(0.2)\n",
    "\n",
    "def add_collection_to_self_and_children(record_uri, graph_uri, record_uri_to_graph_uri, updated_uris, bar = None):\n",
    "    if record_uri not in updated_uris:\n",
    "        add_collection_to_record(record_uri, graph_uri)\n",
    "        updated_uris.add(record_uri)\n",
    "    children_uris = resourceURI2children.get(record_uri, [])\n",
    "    if bar is not None:\n",
    "        bar.total += len(children_uris)\n",
    "        bar.update(1)\n",
    "    for child_record_uri in children_uris:\n",
    "        add_collection_to_self_and_children(child_record_uri, record_uri_to_graph_uri[child_record_uri], record_uri_to_graph_uri, updated_uris, bar)"
   ]
  },
  {
   "cell_type": "code",
   "execution_count": 153,
   "metadata": {},
   "outputs": [],
   "source": [
    "updated_uris = set()"
   ]
  },
  {
   "cell_type": "code",
   "execution_count": 154,
   "metadata": {},
   "outputs": [
    {
     "data": {
      "application/vnd.jupyter.widget-view+json": {
       "model_id": "f2c94f8eac1b40e2953e5b21dd55a82a",
       "version_major": 2,
       "version_minor": 0
      },
      "text/plain": [
       "  0%|          | 0/2 [00:00<?, ?it/s]"
      ]
     },
     "metadata": {},
     "output_type": "display_data"
    }
   ],
   "source": [
    "bar = tqdm(total=len(uris))\n",
    "for uri in uris:\n",
    "    record_uri_to_graph_uri = graph_uris_of_descendants(uri)\n",
    "    graph_uri = get_graph_by_uri(uri)\n",
    "    add_collection_to_self_and_children(uri, graph_uri, record_uri_to_graph_uri, updated_uris, bar)\n",
    "    bar.update(1)"
   ]
  },
  {
   "cell_type": "code",
   "execution_count": 155,
   "metadata": {},
   "outputs": [
    {
     "data": {
      "text/plain": [
       "3102"
      ]
     },
     "execution_count": 155,
     "metadata": {},
     "output_type": "execute_result"
    }
   ],
   "source": [
    "len(updated_uris)"
   ]
  },
  {
   "cell_type": "code",
   "execution_count": 71,
   "metadata": {},
   "outputs": [
    {
     "data": {
      "text/plain": [
       "666"
      ]
     },
     "execution_count": 71,
     "metadata": {},
     "output_type": "execute_result"
    }
   ],
   "source": [
    "len(updated_uris)"
   ]
  },
  {
   "cell_type": "code",
   "execution_count": null,
   "metadata": {},
   "outputs": [],
   "source": []
  }
 ],
 "metadata": {
  "kernelspec": {
   "display_name": ".venv",
   "language": "python",
   "name": "python3"
  },
  "language_info": {
   "codemirror_mode": {
    "name": "ipython",
    "version": 3
   },
   "file_extension": ".py",
   "mimetype": "text/x-python",
   "name": "python",
   "nbconvert_exporter": "python",
   "pygments_lexer": "ipython3",
   "version": "3.10.14"
  }
 },
 "nbformat": 4,
 "nbformat_minor": 2
}
