{
 "cells": [
  {
   "cell_type": "code",
   "execution_count": 3,
   "metadata": {},
   "outputs": [],
   "source": [
    "import json\n",
    "import re\n",
    "\n",
    "import requests\n",
    "from requests.adapters import HTTPAdapter\n",
    "from requests.packages.urllib3.util.retry import Retry\n",
    "from tqdm.auto import tqdm\n",
    "\n",
    "FORCE_REFRESH_IMAGE_SIZES = False"
   ]
  },
  {
   "cell_type": "code",
   "execution_count": 4,
   "metadata": {},
   "outputs": [],
   "source": [
    "s = requests.Session()\n",
    "\n",
    "retries = Retry(total=5, backoff_factor=1, status_forcelist=[429, 500, 502, 503, 504])\n",
    "\n",
    "s.mount(\"https://\", HTTPAdapter(max_retries=retries))"
   ]
  },
  {
   "cell_type": "code",
   "execution_count": 12,
   "metadata": {},
   "outputs": [],
   "source": [
    "out_of_bounds_regex = re.compile(\n",
    "    r\"500 Internal Server Error\\n\\nIndex \\d+ out of bounds for length (\\d+)\\n\\n\\n\"\n",
    ")\n",
    "\n",
    "\n",
    "def get_pdf_num_pages(pdf_iiif_base_url):\n",
    "    response = requests.get(pdf_iiif_base_url + \";999999999/info.json\")\n",
    "    assert response.status_code == 500\n",
    "    bounds_match = out_of_bounds_regex.match(response.text)\n",
    "    assert bounds_match is not None\n",
    "    assert len(bounds_match.groups()) == 1\n",
    "    return int(bounds_match.group(1))\n",
    "\n",
    "\n",
    "image_sizes_cache = {}\n",
    "\n",
    "\n",
    "def get_image_sizes(pdf_iiif_base_url, page_number):\n",
    "    query_url = f\"{pdf_iiif_base_url};{page_number}/info.json\"\n",
    "    if not FORCE_REFRESH_IMAGE_SIZES and query_url in image_sizes_cache:\n",
    "        return image_sizes_cache[query_url]\n",
    "    response = s.get(query_url)\n",
    "    response.raise_for_status()\n",
    "    sizes = (response.json()[\"height\"], response.json()[\"width\"])\n",
    "    image_sizes_cache[query_url] = sizes\n",
    "    return sizes\n",
    "\n",
    "\n",
    "def generate_iiif_image_items(base_manifest_uri, document_name):\n",
    "    pdf_iiif_base_url = (\n",
    "        f\"https://media.performing-arts.ch/iiif/3/document%2f{document_name}\"\n",
    "    )\n",
    "    num_pages = get_pdf_num_pages(pdf_iiif_base_url)\n",
    "    items = []\n",
    "    for page_number in tqdm(range(1, num_pages + 1)):\n",
    "        height, width = get_image_sizes(pdf_iiif_base_url, page_number)\n",
    "        items.append(\n",
    "            {\n",
    "                \"id\": f\"{base_manifest_uri}/canvas/p{page_number}\",\n",
    "                \"type\": \"Canvas\",\n",
    "                \"height\": height,\n",
    "                \"width\": width,\n",
    "                \"label\": {\n",
    "                    \"en\": [\n",
    "                        f\"Page {page_number}\"\n",
    "                    ],\n",
    "                    \"de\": [\n",
    "                        f\"Seite {page_number}\"\n",
    "                    ],\n",
    "                    \"fr\": [\n",
    "                        f\"Page {page_number}\"\n",
    "                    ],\n",
    "                    \"it\": [\n",
    "                        f\"Pagina {page_number}\"\n",
    "                    ],\n",
    "                       \n",
    "                },\n",
    "                #\"thumbnail\": [\n",
    "                #    {\n",
    "                #        \"id\": f\"{pdf_iiif_base_url};{page_number}/full/!300,300/0/default.jpg\",\n",
    "                #        \"type\": \"Image\",\n",
    "                #        \"format\": \"image/jpeg\",\n",
    "                #        \"width\": int(width*300/height),\n",
    "                #        \"height\": 300,\n",
    "                #    }\n",
    "                #],\n",
    "                \"items\": [\n",
    "                    {\n",
    "                        \"id\": f\"{base_manifest_uri}/page/p{page_number}/1\",\n",
    "                        \"type\": \"AnnotationPage\",\n",
    "                        \"items\": [\n",
    "                            {\n",
    "                                \"id\": f\"{base_manifest_uri}/annotation/p{page_number:04d}-image\",\n",
    "                                \"type\": \"Annotation\",\n",
    "                                \"motivation\": \"painting\",\n",
    "                                \"body\": {\n",
    "                                    \"id\": f\"{pdf_iiif_base_url};{page_number}/full/max/0/default.jpg\",\n",
    "                                    \"type\": \"Image\",\n",
    "                                    \"format\": \"image/jpeg\",\n",
    "                                    \"height\": height,\n",
    "                                    \"width\": width,\n",
    "                                    \"service\": [\n",
    "                                        {\n",
    "                                            \"id\": f\"{pdf_iiif_base_url};{page_number}\",\n",
    "                                            \"type\": \"ImageService3\",\n",
    "                                            \"profile\": \"level1\",\n",
    "                                        }\n",
    "                                    ],\n",
    "                                },\n",
    "                                \"target\": f\"{base_manifest_uri}/canvas/p{page_number}\",\n",
    "                            }\n",
    "                        ],\n",
    "                    }\n",
    "                ],\n",
    "            }\n",
    "        )\n",
    "    return items"
   ]
  },
  {
   "cell_type": "code",
   "execution_count": 13,
   "metadata": {},
   "outputs": [],
   "source": [
    "document_name = \"SAPA_Jahresbericht_2022_FR-1\"\n"
   ]
  },
  {
   "cell_type": "code",
   "execution_count": 14,
   "metadata": {},
   "outputs": [
    {
     "data": {
      "application/vnd.jupyter.widget-view+json": {
       "model_id": "45557651eeb242a3ba2da33ecad14f95",
       "version_major": 2,
       "version_minor": 0
      },
      "text/plain": [
       "  0%|          | 0/48 [00:00<?, ?it/s]"
      ]
     },
     "metadata": {},
     "output_type": "display_data"
    }
   ],
   "source": [
    "iiif_items = generate_iiif_image_items(f\"https://media.performing-arts.ch/iiif/manifest/{document_name}\", document_name)"
   ]
  },
  {
   "cell_type": "code",
   "execution_count": 15,
   "metadata": {},
   "outputs": [
    {
     "data": {
      "application/vnd.jupyter.widget-view+json": {
       "model_id": "f15533449c8649feabb99ebcf78f0145",
       "version_major": 2,
       "version_minor": 0
      },
      "text/plain": [
       "  0%|          | 0/48 [00:00<?, ?it/s]"
      ]
     },
     "metadata": {},
     "output_type": "display_data"
    }
   ],
   "source": [
    "pdf_iiif_base_url = (\n",
    "    f\"https://media.performing-arts.ch/iiif/3/document%2f{document_name}\"\n",
    ")\n",
    "\n",
    "manifest = {\n",
    "    \"@context\": \"http://iiif.io/api/presentation/3/context.json\",\n",
    "    \"id\": f\"https://media.performing-arts.ch/iiif/manifest/{document_name}.json\",\n",
    "    \"label\": {\"en\": [document_name]},\n",
    "    \"type\": \"Manifest\",\n",
    "    \"behavior\": [\"paged\"],\n",
    "    \"viewingDirection\": \"left-to-right\",\n",
    "    \"rendering\": [\n",
    "        {\n",
    "            \"id\": f\"{pdf_iiif_base_url}/full/max/0/default.jpg\",\n",
    "            \"type\": \"Document\",\n",
    "            \"label\": {\"de\": \"PDF\", \"fr\": \"PDF\", \"en\": \"PDF\"},\n",
    "            \"format\": \"application/pdf\",\n",
    "        }\n",
    "    ],\n",
    "    \"items\": generate_iiif_image_items(\n",
    "        f\"https://media.performing-arts.ch/iiif/manifest/{document_name}\", document_name\n",
    "    ),\n",
    "}"
   ]
  },
  {
   "cell_type": "code",
   "execution_count": 16,
   "metadata": {},
   "outputs": [],
   "source": [
    "with open(f'{document_name}.json', 'w') as outfile:\n",
    "    json.dump(manifest, outfile, ensure_ascii=False)"
   ]
  },
  {
   "cell_type": "code",
   "execution_count": null,
   "metadata": {},
   "outputs": [],
   "source": []
  }
 ],
 "metadata": {
  "kernelspec": {
   "display_name": "data",
   "language": "python",
   "name": "python3"
  },
  "language_info": {
   "codemirror_mode": {
    "name": "ipython",
    "version": 3
   },
   "file_extension": ".py",
   "mimetype": "text/x-python",
   "name": "python",
   "nbconvert_exporter": "python",
   "pygments_lexer": "ipython3",
   "version": "3.9.0"
  }
 },
 "nbformat": 4,
 "nbformat_minor": 2
}
