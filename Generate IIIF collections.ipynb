{
 "cells": [
  {
   "cell_type": "code",
   "execution_count": 12,
   "metadata": {},
   "outputs": [],
   "source": [
    "import json\n",
    "import os\n",
    "\n",
    "import boto3\n",
    "from getpass import getpass\n",
    "import pandas as pd\n",
    "from SPARQLWrapper import SPARQLWrapper, JSON\n",
    "from tqdm.auto import tqdm\n",
    "\n",
    "try:\n",
    "    S3_CLIENT_ID\n",
    "except NameError:\n",
    "    S3_CLIENT_ID = getpass(\"Please input s3 client id\")\n",
    "\n",
    "try:\n",
    "    S3_CLIENT_SECRET\n",
    "except NameError:\n",
    "    S3_CLIENT_SECRET = getpass(\"Please input s3 client secret\")\n"
   ]
  },
  {
   "cell_type": "markdown",
   "metadata": {},
   "source": [
    "Query that generates recursively list of items that have child and grand child that have IIIF data."
   ]
  },
  {
   "cell_type": "code",
   "execution_count": 21,
   "metadata": {},
   "outputs": [],
   "source": [
    "sparql = SPARQLWrapper(\"https://www.performing-arts.ch/sparql\")\n",
    "\n",
    "sparql.setQuery(\n",
    "    \"\"\"\n",
    "PREFIX spao: <http://ontology.performing-arts.ch/>\n",
    "PREFIX rdf: <http://www.w3.org/1999/02/22-rdf-syntax-ns#>\n",
    "PREFIX spav: <http://vocab.performing-arts.ch/>\n",
    "PREFIX rico: <https://www.ica.org/standards/RiC/ontology#>\n",
    "PREFIX crm: <http://www.cidoc-crm.org/cidoc-crm/>\n",
    "\n",
    "SELECT ?iiifURI ?resource ?name ?parentResource ?parentIdentifierValue ?parentName ?parentDescriptiveNote ?grandParentResource ?grandParentIdentifierValue ?grandParentName ?grandParentDescriptiveNote WHERE {\n",
    "  ?resource rico:hasOrHadIdentifier ?identifier;\n",
    "    rico:name ?name;\n",
    "    rico:hasInstantiation ?instance, ?instance2.\n",
    "  ?identifier rdf:value ?identifierValue.\n",
    "  ?instance rico:hasCarrierType spav:fvman.\n",
    "  ?resource (rico:isOrWasIncludedIn+) ?parentResource.\n",
    "  ?parentResource rico:hasOrHadIdentifier ?parentIdentifier.\n",
    "  { ?parentIdentifier crm:P2_has_type spav:iduni. }\n",
    "  UNION\n",
    "  { ?parentIdentifier crm:P2_has_type spav:idcon. }\n",
    "  ?parentIdentifier rdf:value ?parentIdentifierValue.\n",
    "  OPTIONAL {\n",
    "    ?parentResource rico:descriptiveNote ?parentDescriptiveNote;\n",
    "      rico:name ?parentName.\n",
    "  }\n",
    "  ?parentResource rico:isOrWasIncludedIn ?grandParentResource.\n",
    "  ?grandParentResource rico:hasOrHadIdentifier ?grandParentIdentifier.\n",
    "  { ?grandParentIdentifier crm:P2_has_type spav:iduni. }\n",
    "  UNION\n",
    "  { ?grandParentIdentifier crm:P2_has_type spav:idcon. }\n",
    "  ?grandParentIdentifier rdf:value ?grandParentIdentifierValue.\n",
    "  OPTIONAL {\n",
    "    ?grandParentResource rico:descriptiveNote ?grandParentDescriptiveNote;\n",
    "      rico:name ?grandParentName.\n",
    "  }\n",
    "  BIND(?instance AS ?iiifURI)\n",
    "}\n",
    "\"\"\"\n",
    ")\n",
    "sparql.setReturnFormat(JSON)\n",
    "results = sparql.query().convert()\n",
    "\n",
    "data = pd.DataFrame.from_dict(\n",
    "    [{k: v[\"value\"] for k, v in x.items()} for x in results[\"results\"][\"bindings\"]]\n",
    ")"
   ]
  },
  {
   "cell_type": "markdown",
   "metadata": {},
   "source": [
    "Create hierarchy from the result of the previous query:"
   ]
  },
  {
   "cell_type": "code",
   "execution_count": 25,
   "metadata": {},
   "outputs": [],
   "source": [
    "def identifier_to_collection_uri(identifier):\n",
    "    return f\"https://media.performing-arts.ch/iiif/collection/{identifier}.json\"\n",
    "\n",
    "\n",
    "# Gather infos\n",
    "\n",
    "## Get parents\n",
    "parents = data.set_index(\"parentResource\")[\n",
    "    [\"parentIdentifierValue\", \"parentDescriptiveNote\", \"parentName\"]\n",
    "]\n",
    "parents = parents.loc[~parents.index.duplicated(keep=\"first\")]\n",
    "parents.columns = [\"identifier\", \"descriptiveNote\", \"name\"]\n",
    "\n",
    "## Get grand parents\n",
    "grand_parents = data.set_index(\"grandParentResource\")[\n",
    "    [\"grandParentIdentifierValue\", \"grandParentDescriptiveNote\", \"grandParentName\"]\n",
    "]\n",
    "grand_parents = grand_parents.loc[~grand_parents.index.duplicated(keep=\"first\")]\n",
    "grand_parents.columns = [\"identifier\", \"descriptiveNote\", \"name\"]\n",
    "\n",
    "# Map URI to infos\n",
    "resourceURI2infos = parents.to_dict(orient=\"index\") | grand_parents.to_dict(\n",
    "    orient=\"index\"\n",
    ")\n",
    "\n",
    "def map_collection(infos):\n",
    "    metadata = {\n",
    "        \"id\": identifier_to_collection_uri(infos[\"identifier\"]),\n",
    "        \"type\": \"Collection\",\n",
    "        \"label\": {\"de\": [infos[\"name\"]]},\n",
    "    }\n",
    "    if pd.isna(infos[\"name\"]):\n",
    "        del metadata[\"label\"]\n",
    "    return metadata\n",
    "\n",
    "# A collection item is either a collection or a manifest\n",
    "resourceURI2collection_item = (\n",
    "    data.drop_duplicates(\"iiifURI\", keep=\"first\")\n",
    "    .set_index(\"iiifURI\")[[\"name\"]]\n",
    "    .apply(\n",
    "        lambda row: {\"id\": row.name, \"type\": \"Manifest\", \"label\": {\"de\": [row[\"name\"]]}},\n",
    "        axis=1,\n",
    "    )\n",
    "    .to_dict()\n",
    ") | {\n",
    "    resource_uri: map_collection(infos)\n",
    "    for resource_uri, infos in resourceURI2infos.items()\n",
    "}\n",
    "\n",
    "# root nodes are node that are never parent\n",
    "root_nodes = (\n",
    "    data.loc[\n",
    "        ~data[\"grandParentResource\"].isin(data[\"parentResource\"]), \"grandParentResource\"\n",
    "    ]\n",
    "    .drop_duplicates(keep=\"first\")\n",
    "    .values.tolist()\n",
    ")\n",
    "\n",
    "# Leaves node are node that are never grand parents\n",
    "leaf_nodes = (\n",
    "    data.loc[\n",
    "        ~data[\"parentResource\"].isin(data[\"grandParentResource\"]), \"parentResource\"\n",
    "    ]\n",
    "    .drop_duplicates(keep=\"first\")\n",
    "    .values.tolist()\n",
    ")\n",
    "\n",
    "# Children are either children of grand parents or children of leaves nodes\n",
    "resourceURI2children = (\n",
    "    data.groupby(\"grandParentResource\")[\"parentResource\"].apply(set).to_dict()\n",
    ") | (\n",
    "    data.loc[data[\"parentResource\"].isin(leaf_nodes)]\n",
    "    .groupby(\"parentResource\")[\"iiifURI\"]\n",
    "    .apply(set)\n",
    "    .to_dict()\n",
    ")"
   ]
  },
  {
   "cell_type": "markdown",
   "metadata": {},
   "source": [
    "Create mapping:"
   ]
  },
  {
   "cell_type": "code",
   "execution_count": 26,
   "metadata": {},
   "outputs": [],
   "source": [
    "base_metadata = {\n",
    "    \"@context\": \"http://iiif.io/api/presentation/3/context.json\",\n",
    "    \"type\": \"Collection\",\n",
    "    \"rights\": \"http://creativecommons.org/licenses/by-sa/4.0/\",\n",
    "    \"homepage\": [\n",
    "        {\n",
    "            \"id\": \"https://sapa.swiss\",\n",
    "            \"type\": \"Text\",\n",
    "            \"label\": {\"en\": [\"SAPA Homepage\"]},\n",
    "            \"format\": \"text/html\",\n",
    "        }\n",
    "    ],\n",
    "    \"provider\": [\n",
    "        {\n",
    "            \"id\": \"https://www.wikidata.org/entity/Q50920401\",\n",
    "            \"type\": \"Agent\",\n",
    "            \"label\": {\n",
    "                \"en\": [\"SAPA, Swiss Archive of the Performing Arts\"],\n",
    "                \"de\": [\"Stiftung SAPA, Schweizer Archiv der Darstellenden Künste\"],\n",
    "                \"fr\": [\"Fondation SAPA, Archives suisses des arts de la scène\"],\n",
    "                \"it\": [\"Fondazione SAPA, Archivio svizzero delle arti della scena\"],\n",
    "            },\n",
    "            \"homepage\": [\n",
    "                {\n",
    "                    \"id\": \"https://sapa.swiss/\",\n",
    "                    \"type\": \"Text\",\n",
    "                    \"label\": {\n",
    "                        \"en\": [\n",
    "                            \"The SAPA Foundation, Swiss Archive of the Performing Arts, collects documents and objects of importance to the history of the performing arts and makes them accessible to a wider audience.\"\n",
    "                        ],\n",
    "                        \"de\": [\n",
    "                            \"Die Stiftung SAPA, Schweizer Archiv der Darstellenden Künste, sammelt Dokumente und Objekte, die für die Geschichte der Darstellenden Künste bedeutsam sind, und stellt diese einem breiten Publikum zur Verfügung.\"\n",
    "                        ],\n",
    "                        \"fr\": [\n",
    "                            \"La Fondation SAPA, Archives suisses des arts de la scène, collecte et met à disposition de tous les publics les documents et objets constituant l‘histoire des arts de la scène en Suisse. Sa mission: préserver les traces de ces arts éphémères et complexes pour les transmettre aux générations futures.\"\n",
    "                        ],\n",
    "                        \"it\": [\n",
    "                            \"SAPA raccoglie e mette a disposizione del pubblico documenti e oggetti di rilevanza storica per le arti sceniche in Svizzera. La Fondazione si pone l’obiettivo di preservare le tracce di queste arti effimere e complesse per tramandarle alle generazioni future.\"\n",
    "                        ],\n",
    "                    },\n",
    "                    \"format\": \"text/html\",\n",
    "                }\n",
    "            ],\n",
    "            \"logo\": [\n",
    "                {\n",
    "                    \"id\": \"https://memobase.ch/sites/default/files/2021-05/sap-logo.jpg\",\n",
    "                    \"type\": \"Image\",\n",
    "                    \"format\": \"image/jpeg\",\n",
    "                    \"height\": 100,\n",
    "                    \"width\": 260,\n",
    "                }\n",
    "            ],\n",
    "        }\n",
    "    ],\n",
    "    \"viewingDirection\": \"left-to-right\",\n",
    "}"
   ]
  },
  {
   "cell_type": "code",
   "execution_count": 27,
   "metadata": {},
   "outputs": [],
   "source": [
    "def resource_uri_to_collection_of_collection(resource_uri):\n",
    "    resource_infos = resourceURI2infos[resource_uri]\n",
    "    metadata = base_metadata | {\n",
    "        \"id\": identifier_to_collection_uri(resource_infos[\"identifier\"]),\n",
    "        \"label\": {\n",
    "            \"de\": [resource_infos[\"name\"]],\n",
    "        },\n",
    "        \"summary\": {\"de\": [resource_infos[\"descriptiveNote\"]]},\n",
    "        \"seeAlso\": [\n",
    "            {\n",
    "                \"id\": resource_uri,\n",
    "                \"type\": \"Text\",\n",
    "                \"label\": {\"en\": [\"Record on Swiss performing arts platform\"]},\n",
    "                \"format\": \"text/html\",\n",
    "            }\n",
    "        ],\n",
    "        \"items\": sorted(\n",
    "            [\n",
    "                resourceURI2collection_item[child]\n",
    "                for child in resourceURI2children[resource_uri]\n",
    "            ],\n",
    "            key=lambda x: x[\"id\"],\n",
    "        ),\n",
    "    }\n",
    "    if pd.isna(resource_infos[\"name\"]):\n",
    "        del metadata[\"label\"]\n",
    "    if pd.isna(resource_infos[\"descriptiveNote\"]):\n",
    "        del metadata[\"summary\"]\n",
    "    return metadata"
   ]
  },
  {
   "cell_type": "markdown",
   "metadata": {},
   "source": [
    "Create meta collection of all collections:"
   ]
  },
  {
   "cell_type": "code",
   "execution_count": 28,
   "metadata": {},
   "outputs": [],
   "source": [
    "root_collection = base_metadata | {\n",
    "    \"id\": identifier_to_collection_uri(\"SAPA\"),\n",
    "    \"label\": {\n",
    "        \"en\": [\"Complete collection of SAPA IIIF data\"],\n",
    "    },\n",
    "    \"summary\": {\n",
    "        \"en\": [\n",
    "            \"This collection list all sub-collections or manifests contained in SAPA platform\"\n",
    "        ]\n",
    "    },\n",
    "    \"items\": sorted(\n",
    "        [resourceURI2collection_item[node] for node in root_nodes],\n",
    "        key=lambda x: x[\"id\"],\n",
    "    ),\n",
    "}"
   ]
  },
  {
   "attachments": {},
   "cell_type": "markdown",
   "metadata": {},
   "source": [
    "Comment out to write collections to files (only needed for debug or uploading elsewhere):"
   ]
  },
  {
   "cell_type": "code",
   "execution_count": 29,
   "metadata": {},
   "outputs": [
    {
     "data": {
      "application/vnd.jupyter.widget-view+json": {
       "model_id": "ee15346b974843cba4bc0efc23ac6db5",
       "version_major": 2,
       "version_minor": 0
      },
      "text/plain": [
       "  0%|          | 0/760 [00:00<?, ?it/s]"
      ]
     },
     "metadata": {},
     "output_type": "display_data"
    }
   ],
   "source": [
    "os.makedirs(\"collections\", exist_ok=True)\n",
    "for resource_uri, infos in tqdm(resourceURI2infos.items(), total=len(resourceURI2infos)):\n",
    "   with open(\n",
    "       os.path.join(\"collections\", infos[\"identifier\"] + \".json\"), \"w\"\n",
    "   ) as outfile:\n",
    "       outfile.write(json.dumps(resource_uri_to_collection_of_collection(resource_uri), ensure_ascii=False))\n",
    "\n",
    "with open(os.path.join(\"collections/SAPA.json\"), \"w\") as outfile:\n",
    "    outfile.write(json.dumps(root_collection, ensure_ascii=False))"
   ]
  },
  {
   "attachments": {},
   "cell_type": "markdown",
   "metadata": {},
   "source": [
    "Write collections directly to s3"
   ]
  },
  {
   "cell_type": "code",
   "execution_count": 30,
   "metadata": {},
   "outputs": [
    {
     "data": {
      "application/vnd.jupyter.widget-view+json": {
       "model_id": "763e3570e6cf4e9485ae0762a447a0a6",
       "version_major": 2,
       "version_minor": 0
      },
      "text/plain": [
       "  0%|          | 0/760 [00:00<?, ?it/s]"
      ]
     },
     "metadata": {},
     "output_type": "display_data"
    }
   ],
   "source": [
    "s3_session = boto3.session.Session()\n",
    "\n",
    "s3_client = s3_session.client(\n",
    "    service_name=\"s3\",\n",
    "    aws_access_key_id=S3_CLIENT_ID,\n",
    "    aws_secret_access_key=S3_CLIENT_SECRET,\n",
    "    endpoint_url=\"https://os.zhdk.cloud.switch.ch\",\n",
    ")\n",
    "\n",
    "for resource_uri, infos in tqdm(\n",
    "    resourceURI2infos.items(), total=len(resourceURI2infos)\n",
    "):\n",
    "    s3_client.put_object(\n",
    "        Body=bytes(\n",
    "            json.dumps(\n",
    "                resource_uri_to_collection_of_collection(resource_uri),\n",
    "                ensure_ascii=False,\n",
    "            ).encode(\"utf-8\")\n",
    "        ),\n",
    "        Bucket=s3_bucket_name,\n",
    "        Key=\"collections/\" + infos[\"identifier\"] + \".json\",\n",
    "    )\n",
    "\n",
    "s3_client.put_object(\n",
    "    Body=bytes(\n",
    "        json.dumps(\n",
    "            root_collection,\n",
    "            ensure_ascii=False,\n",
    "        ).encode(\"utf-8\")\n",
    "    ),\n",
    "    Bucket=\"performing-arts-iiif-source\",\n",
    "    Key=\"collections/SAPA.json\",\n",
    ");"
   ]
  },
  {
   "cell_type": "code",
   "execution_count": null,
   "metadata": {},
   "outputs": [],
   "source": []
  }
 ],
 "metadata": {
  "kernelspec": {
   "display_name": "data",
   "language": "python",
   "name": "python3"
  },
  "language_info": {
   "codemirror_mode": {
    "name": "ipython",
    "version": 3
   },
   "file_extension": ".py",
   "mimetype": "text/x-python",
   "name": "python",
   "nbconvert_exporter": "python",
   "pygments_lexer": "ipython3",
   "version": "3.9.0"
  },
  "orig_nbformat": 4
 },
 "nbformat": 4,
 "nbformat_minor": 2
}
